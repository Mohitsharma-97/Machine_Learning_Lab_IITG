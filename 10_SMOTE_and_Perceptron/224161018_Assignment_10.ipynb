{
 "cells": [
  {
   "cell_type": "code",
   "execution_count": 406,
   "id": "c525472f-f246-4677-9e4c-89d8a12c88b3",
   "metadata": {},
   "outputs": [],
   "source": [
    "import os\n",
    "import numpy as np\n",
    "import pandas as pd"
   ]
  },
  {
   "cell_type": "code",
   "execution_count": 407,
   "id": "169b2b65-a139-412b-a2e1-b93247bad2bd",
   "metadata": {},
   "outputs": [],
   "source": [
    "# Import necessary libraries\n",
    "from sklearn.linear_model import Perceptron\n",
    "from sklearn.metrics import f1_score, accuracy_score\n",
    "import matplotlib.pyplot as plt"
   ]
  },
  {
   "cell_type": "markdown",
   "id": "4e13f3ed-7f88-459c-a5b5-71e34ba66dfb",
   "metadata": {},
   "source": [
    "# Problem 1"
   ]
  },
  {
   "cell_type": "markdown",
   "id": "ab552feb-6ba2-469d-870e-237143512c21",
   "metadata": {},
   "source": [
    "Application of the Perceptron in Classification of Normal and Shouted Speech using MFCC features. These features are extracted from speech samples of a number of speakers uttering a few sentences normally or by shouting. The features are divided into train-test splits and are made available in two csv files (use dataset of previous assignment). You are tasked to learn a discriminative model to classify normal and shouted speech. This example uses Perceptron as a discriminative model. Consider the .csv file “Train_file.csv” containing 86060 instances of 61- dimensional arrays. The first 60 dimensions of the array contain the feature values for a particular instance and the last dimension contains its label. The label can be either ’0’ or ‘1’."
   ]
  },
  {
   "cell_type": "markdown",
   "id": "7241b84a-95a7-4475-bab9-e68349159bdd",
   "metadata": {},
   "source": [
    "## (a)"
   ]
  },
  {
   "cell_type": "markdown",
   "id": "8789c273-dfb9-4e37-b0d5-dd9763babc15",
   "metadata": {},
   "source": [
    "The perceptron input 𝒙∈ℝ60 and predicted output 𝑦̂∈ (0,1) are related as follows.\n",
    "\n",
    "𝑢=𝝎𝑇𝒙+𝑏 ;𝝎∈ℝ60\n",
    "\n",
    "𝑦̂={1+exp(−𝑢)}−1\n",
    "\n",
    "Learn the weight vector 𝒙 and bias 𝑏 from the train dataset (Train_file.csv). Do not use any Scikit-Learn functions. Write your own functions for perceptron learning."
   ]
  },
  {
   "cell_type": "code",
   "execution_count": 408,
   "id": "29070103-0176-418f-9672-da3053f1f153",
   "metadata": {},
   "outputs": [],
   "source": [
    "path=\"D:\\Semester 2\\Machine Learning Lab\\9\"\n",
    "os.chdir(path)"
   ]
  },
  {
   "cell_type": "code",
   "execution_count": 409,
   "id": "9d929c8f-167a-4562-a254-37e11db236b8",
   "metadata": {},
   "outputs": [],
   "source": [
    "files=os.listdir()[-2:]"
   ]
  },
  {
   "cell_type": "code",
   "execution_count": 458,
   "id": "1f41333a-7fdc-4601-a115-225383bc6f6c",
   "metadata": {},
   "outputs": [],
   "source": [
    "train=np.loadtxt(path+'\\\\'+files[1],delimiter=',')"
   ]
  },
  {
   "cell_type": "code",
   "execution_count": 459,
   "id": "107ff9a0-683b-4139-8813-511c47ab7e94",
   "metadata": {},
   "outputs": [],
   "source": [
    "# Features in rows and records in rows\n",
    "train=train.T"
   ]
  },
  {
   "cell_type": "code",
   "execution_count": 460,
   "id": "2d4c1551-e213-4d6e-af9a-05498e111f39",
   "metadata": {},
   "outputs": [],
   "source": [
    "# First 60 rows are features and last one row is label for that column\n",
    "x_train=train[:-1,:]\n",
    "y_train=train[-1,:]"
   ]
  },
  {
   "cell_type": "code",
   "execution_count": 461,
   "id": "cdd92232-8233-41ae-830d-f1df11547036",
   "metadata": {},
   "outputs": [],
   "source": [
    "d=x_train.shape[0]\n",
    "n=x_train.shape[1]"
   ]
  },
  {
   "cell_type": "code",
   "execution_count": 462,
   "id": "d5e885a6-d59e-418b-b6e8-003c0377f023",
   "metadata": {},
   "outputs": [],
   "source": [
    "w=np.random.rand(d,1)\n",
    "b=np.random.rand(1)"
   ]
  },
  {
   "cell_type": "code",
   "execution_count": 463,
   "id": "d1c87a99-140b-404e-bc5d-aa7518d7e2f1",
   "metadata": {},
   "outputs": [],
   "source": [
    "def sigmoid(x):\n",
    "    return 1/(1+np.exp(-x))"
   ]
  },
  {
   "cell_type": "code",
   "execution_count": 464,
   "id": "04bde190-36aa-4f0d-a31c-359c12a91ef8",
   "metadata": {},
   "outputs": [],
   "source": [
    "def forward(x):\n",
    "    '''\n",
    "    Perform forward propagation\n",
    "    '''\n",
    "    return sigmoid(w.T@x+b)[0] # Returns 2d-array with 1 row, we select the first row"
   ]
  },
  {
   "cell_type": "code",
   "execution_count": 467,
   "id": "49a9594f-f244-4410-a54a-656a258c6c87",
   "metadata": {},
   "outputs": [],
   "source": [
    "def train_perceptron(iterations=1000,lr=0.01):\n",
    "    # set lr =0.001 if does not work properly\n",
    "    global w\n",
    "    global b\n",
    "    for i in range(iterations):\n",
    "        y_hat=forward(x_train)\n",
    "        grad_b=-(y_train*(1-y_hat)-(1-y_train)*y_hat).sum()\n",
    "        grad_w=(-(y_train*(1-y_hat)-(1-y_train)*y_hat)*x_train).sum(axis=1).reshape(d,1)\n",
    "        old_params=np.vstack((w,b))\n",
    "        b=b-lr*grad_b\n",
    "        w=w-lr*grad_w\n",
    "        new_params=np.vstack((w,b))\n",
    "        if np.linalg.norm(new_params-old_params)<=0.001:\n",
    "            break\n",
    "    return w,b"
   ]
  },
  {
   "cell_type": "code",
   "execution_count": 466,
   "id": "2084849f-4db4-46c7-8f74-eaf6a1b7c63e",
   "metadata": {
    "tags": []
   },
   "outputs": [
    {
     "name": "stderr",
     "output_type": "stream",
     "text": [
      "C:\\Users\\mohit\\AppData\\Local\\Temp\\ipykernel_37100\\4033946986.py:2: RuntimeWarning: overflow encountered in exp\n",
      "  return 1/(1+np.exp(-x))\n"
     ]
    },
    {
     "data": {
      "text/plain": [
       "(array([[ 112.6173429 ],\n",
       "        [  36.96156262],\n",
       "        [  37.67206008],\n",
       "        [   5.7260605 ],\n",
       "        [  22.9528445 ],\n",
       "        [ -28.39203728],\n",
       "        [ -51.4226641 ],\n",
       "        [  22.91981787],\n",
       "        [ -40.55077712],\n",
       "        [ -38.34090098],\n",
       "        [ -33.43606127],\n",
       "        [ -63.02698095],\n",
       "        [ -42.28555861],\n",
       "        [ -78.60925023],\n",
       "        [ -33.649294  ],\n",
       "        [  36.47984289],\n",
       "        [ -67.04883195],\n",
       "        [  22.42095906],\n",
       "        [  36.07109063],\n",
       "        [ -42.58573651],\n",
       "        [ -11.32771914],\n",
       "        [ -26.65339837],\n",
       "        [  30.8955769 ],\n",
       "        [  -1.3792132 ],\n",
       "        [   5.7665968 ],\n",
       "        [ -10.48198757],\n",
       "        [  -5.03434587],\n",
       "        [  -7.39949525],\n",
       "        [   4.1377589 ],\n",
       "        [  43.59713173],\n",
       "        [  24.54316373],\n",
       "        [  12.31895686],\n",
       "        [  54.4808658 ],\n",
       "        [   7.19184557],\n",
       "        [  11.6031604 ],\n",
       "        [  14.11522951],\n",
       "        [  -1.52781178],\n",
       "        [  21.4896834 ],\n",
       "        [  12.7139162 ],\n",
       "        [  -5.20479651],\n",
       "        [ 469.70374568],\n",
       "        [ 199.22742392],\n",
       "        [  44.87102256],\n",
       "        [  28.49568327],\n",
       "        [ -33.16962017],\n",
       "        [-134.7542497 ],\n",
       "        [-121.34692023],\n",
       "        [ -22.18600416],\n",
       "        [ -91.62796635],\n",
       "        [ -21.60148177],\n",
       "        [ -31.98595503],\n",
       "        [ -73.87282742],\n",
       "        [ -34.02788196],\n",
       "        [-116.97930133],\n",
       "        [ -67.18946037],\n",
       "        [ -16.37455044],\n",
       "        [ -64.82081135],\n",
       "        [  11.49919069],\n",
       "        [  15.11902868],\n",
       "        [ -21.75018709]]),\n",
       " array([365.69176294]))"
      ]
     },
     "execution_count": 466,
     "metadata": {},
     "output_type": "execute_result"
    }
   ],
   "source": [
    "train_perceptron()"
   ]
  },
  {
   "cell_type": "markdown",
   "id": "c0cbdfd5-3f2c-43de-9d01-9e5eccce47af",
   "metadata": {},
   "source": [
    "# (b)"
   ]
  },
  {
   "cell_type": "markdown",
   "id": "23410b26-97a8-4a7b-9719-5937b26c4ed5",
   "metadata": {},
   "source": [
    "Read “Test_file.csv” consisting of 21516 instances of 61 dimensional arrays. For each array, the first 60 dimensions contain the feature values for the test data and the last dimension contains its actual label. Predict the label of each data instance from the testing set using the learned perceptron and compare the predicted and actual labels. Report the class-wise F1-scores for both classes and the overall accuracy."
   ]
  },
  {
   "cell_type": "code",
   "execution_count": 468,
   "id": "92b16e09-bd26-433c-80a5-a71d83ccc861",
   "metadata": {},
   "outputs": [],
   "source": [
    "def predict(x):\n",
    "    y_hat=forward(x)\n",
    "    predicted=np.zeros(x.shape[1])\n",
    "    for i in range(x.shape[1]):\n",
    "        if y_hat[i]>=0.5:\n",
    "            predicted[i]=1\n",
    "        else:\n",
    "            predicted[i]=0\n",
    "    return predicted"
   ]
  },
  {
   "cell_type": "code",
   "execution_count": 469,
   "id": "aa3ac227-43e7-4432-bd69-3950f2aa54d8",
   "metadata": {},
   "outputs": [],
   "source": [
    "test=np.loadtxt(path+'\\\\'+files[0],delimiter=',')\n",
    "test=test.T\n",
    "x_test=test[:-1,:]\n",
    "y_test=test[-1,:]"
   ]
  },
  {
   "cell_type": "code",
   "execution_count": 470,
   "id": "eb574fc0-c92f-4118-b91e-d5ed7378f728",
   "metadata": {},
   "outputs": [],
   "source": [
    "# Divide test data Class wise\n",
    "class_0_test_indices=np.where(y_test==0)[0] # np.where returns a numpy array inside a tuple of length 1, so use index 0 to extract that array\n",
    "class_1_test_indices=np.where(y_test==1)[0]\n",
    "\n",
    "y_test_1=y_test[class_1_test_indices]\n",
    "y_test_0=y_test[class_0_test_indices]"
   ]
  },
  {
   "cell_type": "code",
   "execution_count": 471,
   "id": "571213a7-ca8a-43de-8410-3dd287235c20",
   "metadata": {},
   "outputs": [
    {
     "name": "stderr",
     "output_type": "stream",
     "text": [
      "C:\\Users\\mohit\\AppData\\Local\\Temp\\ipykernel_37100\\4033946986.py:2: RuntimeWarning: overflow encountered in exp\n",
      "  return 1/(1+np.exp(-x))\n"
     ]
    }
   ],
   "source": [
    "y_hat=predict(x_test)"
   ]
  },
  {
   "cell_type": "code",
   "execution_count": 472,
   "id": "9c6bc295-0d1e-46f6-8c5c-339d66de72ed",
   "metadata": {},
   "outputs": [],
   "source": [
    "def confusion_matrix(y,y_pred):\n",
    "    # 1 is negative , 0 is positive\n",
    "    # TP 0 as 0\n",
    "    # FP 1 as 0\n",
    "    # TN 1 as 1\n",
    "    # FN 0 as 1\n",
    "    mat=np.zeros((2,2))\n",
    "    zero_inds=(y==0)\n",
    "    FN=y_pred[zero_inds].sum()\n",
    "    TP=(1-y_pred[zero_inds]).sum()\n",
    "    one_inds=(y==1)\n",
    "    TN=y_pred[one_inds].sum()\n",
    "    FP=(1-y_pred[one_inds]).sum()\n",
    "    mat[0][0]=TP\n",
    "    mat[0][1]=FN\n",
    "    mat[1][0]=FP\n",
    "    mat[1][1]=TN\n",
    "    return mat"
   ]
  },
  {
   "cell_type": "code",
   "execution_count": 473,
   "id": "97dd9ac1-c9f6-4293-b9a0-98b10ac1de16",
   "metadata": {},
   "outputs": [
    {
     "data": {
      "text/plain": [
       "array([[ 9866.,   832.],\n",
       "       [  743., 10075.]])"
      ]
     },
     "execution_count": 473,
     "metadata": {},
     "output_type": "execute_result"
    }
   ],
   "source": [
    "cm=confusion_matrix(y_test,y_hat)\n",
    "cm"
   ]
  },
  {
   "cell_type": "code",
   "execution_count": 474,
   "id": "cce41534-7565-44dc-9433-ecaa80c47a92",
   "metadata": {},
   "outputs": [
    {
     "name": "stdout",
     "output_type": "stream",
     "text": [
      "Accuracy is : 0.9267986614612381\n"
     ]
    }
   ],
   "source": [
    "print(f\"Accuracy is : {(cm[0][0]+cm[1][1])/cm.sum()}\") "
   ]
  },
  {
   "cell_type": "code",
   "execution_count": 475,
   "id": "818a3cb4-20e8-4a89-adda-2485b6c678c5",
   "metadata": {},
   "outputs": [
    {
     "name": "stdout",
     "output_type": "stream",
     "text": [
      "Recall for class 0 is 0.9222284539166199, and that of class 1 is 0.9313181734146793\n",
      "Precision for class 0 is 0.9299651239513621, and that of class 1 is 0.9237187127532777\n",
      "F1-Score for class 0 is 0.9260806307786174 and that of class 1 is 0.9275028768699655\n"
     ]
    }
   ],
   "source": [
    "recall_0=(cm[0][0])/cm[0,:].sum()\n",
    "recall_1=cm[1][1]/cm[1,:].sum()\n",
    "precision_0=cm[0][0]/cm[:,0].sum()\n",
    "precision_1=cm[1][1]/cm[:,1].sum()\n",
    "print(f\"Recall for class 0 is {recall_0}, and that of class 1 is {recall_1}\")\n",
    "print(f\"Precision for class 0 is {precision_0}, and that of class 1 is {precision_1}\")\n",
    "f1_class_0=(2*precision_0*recall_0)/(precision_0+recall_0)\n",
    "f1_class_1=(2*precision_1*recall_1)/(precision_1+recall_1)\n",
    "print(f\"F1-Score for class 0 is {f1_class_0} and that of class 1 is {f1_class_1}\")"
   ]
  },
  {
   "cell_type": "markdown",
   "id": "35dd31f4-de15-4171-b5d0-390ba9395111",
   "metadata": {},
   "source": [
    "# Problem 2\n",
    "[Q2] Download the <a href=\"https://archive.ics.uci.edu/ml/datasets/MiniBooNE%2Bparticle%2Bidentification\"> MiniBooNE </a> dataset from UIUC Machine Learning Repository. This dataset is imbalanced. First, sample 𝑛 number of samples (say 11000) from both the classes and set that aside as the test set 𝐷𝑡𝑠𝑡. Consider the remaining imbalanced data as the training set 𝐷𝑡𝑟𝑛."
   ]
  },
  {
   "cell_type": "code",
   "execution_count": 427,
   "id": "85d0a4ce-25b3-44a0-9d94-c546c679040f",
   "metadata": {},
   "outputs": [],
   "source": [
    "data=np.loadtxt(r\"C:\\Users\\mohit\\IITG FIles\\Machine Learning\\8_Assignment_ML\\MiniBooNE_PID.txt\",skiprows=1)\n",
    "\n",
    "# Few entries has -999 as values, replace them by nan\n",
    "data=np.where(data==-999,np.nan,data)\n",
    "# no of elements in each category\n",
    "num_elems=np.loadtxt(r\"C:\\Users\\mohit\\IITG FIles\\Machine Learning\\8_Assignment_ML\\MiniBooNE_PID.txt\",max_rows=1,dtype=int)"
   ]
  },
  {
   "cell_type": "code",
   "execution_count": 428,
   "id": "29cafa72-1186-4158-a95d-212e3426e9dc",
   "metadata": {},
   "outputs": [],
   "source": [
    "data=data.T # Transpose data features are in the rows and each entry is in a column."
   ]
  },
  {
   "cell_type": "code",
   "execution_count": 429,
   "id": "175e707a-0427-47c6-85b9-b57b73d22fc1",
   "metadata": {},
   "outputs": [],
   "source": [
    "row_means = np.nanmean(data, axis=1)\n",
    "data[np.isnan(data)] = np.take(row_means, np.isnan(data).nonzero()[0])"
   ]
  },
  {
   "cell_type": "code",
   "execution_count": 430,
   "id": "38cbad76-343e-49d2-ae74-707376b554c6",
   "metadata": {},
   "outputs": [
    {
     "data": {
      "text/plain": [
       "array([36499, 93565])"
      ]
     },
     "execution_count": 430,
     "metadata": {},
     "output_type": "execute_result"
    }
   ],
   "source": [
    "num_elems # First entry number of entries of signal, second number is number of entries of background"
   ]
  },
  {
   "cell_type": "code",
   "execution_count": 431,
   "id": "886d86ec-7abd-4984-8130-6587adc075a8",
   "metadata": {},
   "outputs": [],
   "source": [
    "n1=num_elems[0]\n",
    "n0=num_elems[1]\n",
    "# Create vector of labels\n",
    "y=np.hstack((np.ones(n1),np.zeros(n0)))"
   ]
  },
  {
   "cell_type": "code",
   "execution_count": 432,
   "id": "82c4ef65-e5a3-42df-b08b-956184419f75",
   "metadata": {},
   "outputs": [],
   "source": [
    "Dtst=np.hstack((data[:,:11000].copy(),data[:,n1:n1+11000].copy()))"
   ]
  },
  {
   "cell_type": "code",
   "execution_count": 433,
   "id": "148982d9-130d-4339-ab24-692285da2771",
   "metadata": {},
   "outputs": [],
   "source": [
    "Dtst_labels=np.hstack((y[:11000].copy(),y[n1:n1+11000].copy()))"
   ]
  },
  {
   "cell_type": "code",
   "execution_count": 434,
   "id": "ce0852e4-2729-47bb-abd0-207c74eed318",
   "metadata": {},
   "outputs": [],
   "source": [
    "Dtrn=np.hstack((data[:,11000:n1].copy(),data[:,n1+11000:].copy()))"
   ]
  },
  {
   "cell_type": "code",
   "execution_count": 435,
   "id": "101ef376-b781-4634-9110-1ee428b226f7",
   "metadata": {},
   "outputs": [],
   "source": [
    "Dtrn_labels=np.hstack((y[11000:n1].copy(),y[n1+11000:].copy()))"
   ]
  },
  {
   "cell_type": "markdown",
   "id": "4bc95184-a668-4264-b5a8-8e77119c2e9c",
   "metadata": {},
   "source": [
    "# (a)\n",
    "Use the perceptron module in Scikit-learn python toolbox to learn a perceptron from 𝐷𝑡𝑟𝑛. Report the class-wise F1-scores of this perceptron on 𝐷𝑡𝑠𝑡."
   ]
  },
  {
   "cell_type": "code",
   "execution_count": 436,
   "id": "1e24fcb8-f128-47bc-8494-2c11fa5f6fde",
   "metadata": {},
   "outputs": [
    {
     "data": {
      "text/plain": [
       "Perceptron(eta0=0.1)"
      ]
     },
     "execution_count": 436,
     "metadata": {},
     "output_type": "execute_result"
    }
   ],
   "source": [
    "clf = Perceptron(tol=1e-3, eta0=.1,random_state=0)\n",
    "clf.fit(Dtrn.T, Dtrn_labels)"
   ]
  },
  {
   "cell_type": "code",
   "execution_count": 437,
   "id": "c5127ace-eae3-4940-8115-e868ab8bf77c",
   "metadata": {},
   "outputs": [
    {
     "data": {
      "text/plain": [
       "array([1., 1., 1., ..., 0., 0., 0.])"
      ]
     },
     "execution_count": 437,
     "metadata": {},
     "output_type": "execute_result"
    }
   ],
   "source": [
    "Dtst_pred=clf.predict(Dtst.T)\n",
    "Dtst_pred"
   ]
  },
  {
   "cell_type": "code",
   "execution_count": 438,
   "id": "94525837-f7f0-41b0-8a4b-2502ec506922",
   "metadata": {},
   "outputs": [],
   "source": [
    "# Calculate the class-wise F1-scores and overall accuracy\n",
    "f1_scores = f1_score(Dtst_labels, Dtst_pred, average=None)\n",
    "accuracy = accuracy_score(Dtst_labels, Dtst_pred)"
   ]
  },
  {
   "cell_type": "code",
   "execution_count": 439,
   "id": "4c8e9e08-ea1a-42ad-981d-9e81d4912a72",
   "metadata": {},
   "outputs": [
    {
     "name": "stdout",
     "output_type": "stream",
     "text": [
      "F1-Scores:  [0.73934682 0.56443878]\n",
      "Overall Accuracy:  0.6738636363636363\n"
     ]
    }
   ],
   "source": [
    "print(\"F1-Scores: \", f1_scores)\n",
    "print(\"Overall Accuracy: \", accuracy)"
   ]
  },
  {
   "cell_type": "markdown",
   "id": "3428488f-a313-4f4e-9a3e-b53ec617b873",
   "metadata": {},
   "source": [
    "# (b)\n",
    "Balance the dataset 𝐷𝑡𝑟𝑛 using <a href=\"https://imbalanced-learn.org/stable/references/generated/imblearn.over_sampling.KMeansSMOTE.html\">KMeansSmote</a> algorithm from the imbalanced-learn python tool box to generate the balanced training dataset 𝐷𝑡𝑟𝑛𝑏. Use the perceptron module in Scikit-learn python toolbox to learn a perceptron from 𝐷𝑡𝑟𝑛𝑏. Report the class-wise F1-scores of this perceptron on 𝐷𝑡𝑟𝑛."
   ]
  },
  {
   "cell_type": "code",
   "execution_count": 440,
   "id": "e9f5f964-3046-47a3-9677-be640c98e8b8",
   "metadata": {},
   "outputs": [
    {
     "name": "stdout",
     "output_type": "stream",
     "text": [
      "Requirement already satisfied: imblearn in c:\\users\\mohit\\anaconda3\\lib\\site-packages (0.0)\n",
      "Requirement already satisfied: imbalanced-learn in c:\\users\\mohit\\anaconda3\\lib\\site-packages (from imblearn) (0.10.1)\n",
      "Requirement already satisfied: scikit-learn>=1.0.2 in c:\\users\\mohit\\anaconda3\\lib\\site-packages (from imbalanced-learn->imblearn) (1.0.2)\n",
      "Requirement already satisfied: scipy>=1.3.2 in c:\\users\\mohit\\anaconda3\\lib\\site-packages (from imbalanced-learn->imblearn) (1.9.3)\n",
      "Requirement already satisfied: threadpoolctl>=2.0.0 in c:\\users\\mohit\\anaconda3\\lib\\site-packages (from imbalanced-learn->imblearn) (2.2.0)\n",
      "Requirement already satisfied: joblib>=1.1.1 in c:\\users\\mohit\\anaconda3\\lib\\site-packages (from imbalanced-learn->imblearn) (1.1.1)\n",
      "Requirement already satisfied: numpy>=1.17.3 in c:\\users\\mohit\\anaconda3\\lib\\site-packages (from imbalanced-learn->imblearn) (1.21.5)\n",
      "Note: you may need to restart the kernel to use updated packages.\n"
     ]
    }
   ],
   "source": [
    "pip install imblearn"
   ]
  },
  {
   "cell_type": "code",
   "execution_count": 441,
   "id": "efd8f95c-ca3b-4ed5-b8a7-45b58a46f370",
   "metadata": {},
   "outputs": [],
   "source": [
    "from imblearn.over_sampling import KMeansSMOTE\n",
    "from sklearn.cluster import MiniBatchKMeans"
   ]
  },
  {
   "cell_type": "code",
   "execution_count": 442,
   "id": "0aa66721-1ee9-4b8b-b4fa-5d3be5466733",
   "metadata": {},
   "outputs": [
    {
     "name": "stderr",
     "output_type": "stream",
     "text": [
      "C:\\Users\\mohit\\anaconda3\\lib\\site-packages\\sklearn\\cluster\\_kmeans.py:1043: UserWarning: MiniBatchKMeans is known to have a memory leak on Windows with MKL, when there are less chunks than available threads. You can prevent it by setting batch_size >= 2048 or by setting the environment variable OMP_NUM_THREADS=4\n",
      "  warnings.warn(\n"
     ]
    }
   ],
   "source": [
    "sm = KMeansSMOTE(\n",
    "    kmeans_estimator=MiniBatchKMeans(n_init=1, random_state=0), random_state=42\n",
    ")\n",
    "Dtrnb,Dtrnb_labels  = sm.fit_resample(Dtrn.T, Dtrn_labels)"
   ]
  },
  {
   "cell_type": "code",
   "execution_count": 443,
   "id": "bd03ba9a-dd53-4a1f-8066-7752867316d7",
   "metadata": {},
   "outputs": [
    {
     "data": {
      "text/plain": [
       "Perceptron(eta0=0.1)"
      ]
     },
     "execution_count": 443,
     "metadata": {},
     "output_type": "execute_result"
    }
   ],
   "source": [
    "clf = Perceptron(tol=1e-3, eta0=.1,random_state=0)\n",
    "clf.fit(Dtrnb, Dtrnb_labels)"
   ]
  },
  {
   "cell_type": "code",
   "execution_count": 444,
   "id": "ad85fa20-bfb1-4746-9c31-91a63eeca690",
   "metadata": {},
   "outputs": [
    {
     "data": {
      "text/plain": [
       "array([1., 0., 1., ..., 0., 0., 1.])"
      ]
     },
     "execution_count": 444,
     "metadata": {},
     "output_type": "execute_result"
    }
   ],
   "source": [
    "Dtrn_pred=clf.predict(Dtrn.T)\n",
    "Dtrn_pred"
   ]
  },
  {
   "cell_type": "code",
   "execution_count": 445,
   "id": "8a3e53ea-aefe-4825-8db0-6bc949e6245f",
   "metadata": {},
   "outputs": [
    {
     "data": {
      "text/plain": [
       "array([1., 1., 1., ..., 0., 0., 0.])"
      ]
     },
     "execution_count": 445,
     "metadata": {},
     "output_type": "execute_result"
    }
   ],
   "source": [
    "Dtrn_labels"
   ]
  },
  {
   "cell_type": "code",
   "execution_count": 446,
   "id": "bb31dfaa-d73c-428a-b134-4ecb04c47df1",
   "metadata": {},
   "outputs": [],
   "source": [
    "# Calculate the class-wise F1-scores and overall accuracy\n",
    "f1_scores = f1_score(Dtrn_labels, Dtrn_pred, average=None)\n",
    "accuracy = accuracy_score(Dtrn_labels, Dtrn_pred)"
   ]
  },
  {
   "cell_type": "code",
   "execution_count": 447,
   "id": "a81b65ab-9469-4f69-a81b-69c044997da5",
   "metadata": {},
   "outputs": [
    {
     "name": "stdout",
     "output_type": "stream",
     "text": [
      "F1-Scores:  [0.84808123 0.55503645]\n",
      "Overall Accuracy:  0.7734953360971276\n"
     ]
    }
   ],
   "source": [
    "print(\"F1-Scores: \", f1_scores)\n",
    "print(\"Overall Accuracy: \", accuracy)"
   ]
  },
  {
   "cell_type": "code",
   "execution_count": 448,
   "id": "eaf38ad6-3545-4f08-9151-9793132824b4",
   "metadata": {},
   "outputs": [
    {
     "data": {
      "text/plain": [
       "array([1., 1., 1., ..., 0., 0., 0.])"
      ]
     },
     "execution_count": 448,
     "metadata": {},
     "output_type": "execute_result"
    }
   ],
   "source": [
    "Dtst_pred=clf.predict(Dtst.T)\n",
    "Dtst_pred"
   ]
  },
  {
   "cell_type": "code",
   "execution_count": 449,
   "id": "d98eb281-feec-42e7-89ff-fb1d9bb32f3a",
   "metadata": {},
   "outputs": [],
   "source": [
    "# Calculate the class-wise F1-scores and overall accuracy\n",
    "f1_scores = f1_score(Dtst_labels, Dtst_pred, average=None)\n",
    "accuracy = accuracy_score(Dtst_labels, Dtst_pred)"
   ]
  },
  {
   "cell_type": "code",
   "execution_count": 450,
   "id": "1b67072f-83d2-4105-a6b9-417de59696dd",
   "metadata": {},
   "outputs": [
    {
     "name": "stdout",
     "output_type": "stream",
     "text": [
      "F1-Scores:  [0.74977688 0.68124031]\n",
      "Overall Accuracy:  0.7196363636363636\n"
     ]
    }
   ],
   "source": [
    "print(\"F1-Scores: \", f1_scores)\n",
    "print(\"Overall Accuracy: \", accuracy)"
   ]
  },
  {
   "cell_type": "markdown",
   "id": "719fe1b6-817c-40ab-a26e-38770a21b784",
   "metadata": {},
   "source": [
    "# (c) \n",
    "Report your observations on the two test performances. Reference: https://www.jmlr.org/papers/volume18/16-365/16-365.pdf"
   ]
  },
  {
   "cell_type": "markdown",
   "id": "68c562f1-97af-4427-985d-a26d3c5f790e",
   "metadata": {},
   "source": [
    "Due to imbalance dataset the accuracy obtained in (a) was not that good, the accuracy and f1 scores increased after we balanced the dataset in (b)"
   ]
  },
  {
   "cell_type": "markdown",
   "id": "5e06eaa8-023c-4d80-9f1e-1e94b04447c6",
   "metadata": {},
   "source": [
    "# Problem 3\n",
    "Consider the MNIST Handwritten Digit Recognition dataset used in earlier assignments. Use the perceptron module in Scikit-learn python toolbox to learn a perceptron to perform 10 category classification over the given dataset. Use SoftMax as the activation function for the 10 output nodes. Report the class-wise F1-scores and the overall accuracy. Fold back the weight vectors of the 10 perceptrons as images and visualize the same"
   ]
  },
  {
   "cell_type": "code",
   "execution_count": 478,
   "id": "c35c5e31-5359-46bc-a8ef-5e401916b232",
   "metadata": {},
   "outputs": [],
   "source": [
    "# Load the MNIST dataset\n",
    "from sklearn.datasets import fetch_openml\n",
    "mnist = fetch_openml('mnist_784', version=1)\n",
    "X, y = mnist[\"data\"], mnist[\"target\"]\n",
    "y = y.astype(np.int32)"
   ]
  },
  {
   "cell_type": "code",
   "execution_count": 479,
   "id": "764d9f83-310e-4f3a-baef-d44feea3e434",
   "metadata": {},
   "outputs": [],
   "source": [
    "# Split the data into training and testing sets\n",
    "X_train, y_train = X[:60000], y[:60000]\n",
    "X_test, y_test = X[60000:], y[60000:]"
   ]
  },
  {
   "cell_type": "code",
   "execution_count": 480,
   "id": "43595fc6-01e9-4328-bdbe-c32e98cfa9a3",
   "metadata": {},
   "outputs": [
    {
     "data": {
      "text/plain": [
       "Perceptron(eta0=0.1)"
      ]
     },
     "execution_count": 480,
     "metadata": {},
     "output_type": "execute_result"
    }
   ],
   "source": [
    "clf = Perceptron(tol=1e-3, eta0=0.1,random_state=0)\n",
    "clf.fit(X_train, y_train)"
   ]
  },
  {
   "cell_type": "code",
   "execution_count": 481,
   "id": "9469375a-9417-40a3-9838-6ebfb51672eb",
   "metadata": {},
   "outputs": [
    {
     "data": {
      "text/plain": [
       "array([7, 2, 1, ..., 4, 5, 6])"
      ]
     },
     "execution_count": 481,
     "metadata": {},
     "output_type": "execute_result"
    }
   ],
   "source": [
    "y_pred=clf.predict(X_test)\n",
    "y_pred"
   ]
  },
  {
   "cell_type": "code",
   "execution_count": 482,
   "id": "9bec7feb-54ab-48b5-94c7-a4410c43547d",
   "metadata": {},
   "outputs": [
    {
     "data": {
      "text/plain": [
       "60000    7\n",
       "60001    2\n",
       "60002    1\n",
       "60003    0\n",
       "60004    4\n",
       "        ..\n",
       "69995    2\n",
       "69996    3\n",
       "69997    4\n",
       "69998    5\n",
       "69999    6\n",
       "Name: class, Length: 10000, dtype: int32"
      ]
     },
     "execution_count": 482,
     "metadata": {},
     "output_type": "execute_result"
    }
   ],
   "source": [
    "y_test"
   ]
  },
  {
   "cell_type": "code",
   "execution_count": 483,
   "id": "77efdef8-62f5-48f2-98bc-53da0ef7890f",
   "metadata": {},
   "outputs": [],
   "source": [
    "# Calculate the class-wise F1-scores and overall accuracy\n",
    "f1_scores = f1_score(y_test, y_pred, average=None)\n",
    "accuracy = accuracy_score(y_test, y_pred)"
   ]
  },
  {
   "cell_type": "code",
   "execution_count": 484,
   "id": "dc9dcfd6-d6a7-45cb-8c8d-036342254f19",
   "metadata": {},
   "outputs": [
    {
     "name": "stdout",
     "output_type": "stream",
     "text": [
      "F1-Scores:  [0.94695092 0.96700396 0.88910226 0.8562212  0.89989785 0.82299887\n",
      " 0.93454936 0.91601562 0.79358289 0.8502316 ]\n",
      "Overall Accuracy:  0.8897\n"
     ]
    }
   ],
   "source": [
    "print(\"F1-Scores: \", f1_scores)\n",
    "print(\"Overall Accuracy: \", accuracy)"
   ]
  },
  {
   "cell_type": "code",
   "execution_count": 485,
   "id": "5c32b5cd-7144-462c-bb96-32bced6fb2c9",
   "metadata": {},
   "outputs": [
    {
     "data": {
      "text/plain": [
       "array([[0., 0., 0., ..., 0., 0., 0.],\n",
       "       [0., 0., 0., ..., 0., 0., 0.],\n",
       "       [0., 0., 0., ..., 0., 0., 0.],\n",
       "       ...,\n",
       "       [0., 0., 0., ..., 0., 0., 0.],\n",
       "       [0., 0., 0., ..., 0., 0., 0.],\n",
       "       [0., 0., 0., ..., 0., 0., 0.]])"
      ]
     },
     "execution_count": 485,
     "metadata": {},
     "output_type": "execute_result"
    }
   ],
   "source": [
    "clf.coef_"
   ]
  },
  {
   "cell_type": "code",
   "execution_count": 486,
   "id": "17d69436-fc82-4f39-a4b3-cfafae9f1825",
   "metadata": {},
   "outputs": [
    {
     "data": {
      "image/png": "[encoded data removed]",
      "text/plain": [
       "<Figure size 1000x400 with 10 Axes>"
      ]
     },
     "metadata": {},
     "output_type": "display_data"
    }
   ],
   "source": [
    "# Fold back the weight vectors of the 10 perceptrons as images and visualize them\n",
    "fig, ax = plt.subplots(nrows=2, ncols=5, figsize=(10, 4))\n",
    "for i in range(10):\n",
    "    w = clf.coef_[i,:].reshape(28, 28)\n",
    "    ax[i//5, i%5].imshow(w, cmap='gray')\n",
    "    ax[i//5, i%5].axis('off')\n",
    "    ax[i//5, i%5].set_title(str(i))\n",
    "plt.tight_layout()\n",
    "plt.show()"
   ]
  },
  {
   "cell_type": "code",
   "execution_count": null,
   "id": "ec04bab6-4f38-46d5-8320-0c02a3fa200d",
   "metadata": {},
   "outputs": [],
   "source": []
  }
 ],
 "metadata": {
  "kernelspec": {
   "display_name": "Python 3 (ipykernel)",
   "language": "python",
   "name": "python3"
  },
  "language_info": {
   "codemirror_mode": {
    "name": "ipython",
    "version": 3
   },
   "file_extension": ".py",
   "mimetype": "text/x-python",
   "name": "python",
   "nbconvert_exporter": "python",
   "pygments_lexer": "ipython3",
   "version": "3.9.12"
  }
 },
 "nbformat": 4,
 "nbformat_minor": 5
}
