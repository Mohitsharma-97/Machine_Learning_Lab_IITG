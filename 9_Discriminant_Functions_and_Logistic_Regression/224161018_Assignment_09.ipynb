{
 "cells": [
  {
   "cell_type": "code",
   "execution_count": 10,
   "id": "8928c897-c7db-4608-b97e-c08962dde83c",
   "metadata": {},
   "outputs": [],
   "source": [
    "import os\n",
    "import numpy as np\n",
    "import pandas as pd"
   ]
  },
  {
   "cell_type": "code",
   "execution_count": 2,
   "id": "ca6b7da1-8dc5-42bd-8864-83d2945b5608",
   "metadata": {},
   "outputs": [],
   "source": [
    "path=\"D:\\Semester 2\\Machine Learning Lab\\9\"\n",
    "os.chdir(path)"
   ]
  },
  {
   "cell_type": "code",
   "execution_count": 6,
   "id": "c08b3d94-d1cf-47d9-b2a8-c6369f0cd1d6",
   "metadata": {},
   "outputs": [],
   "source": [
    "files=os.listdir()[-2:]"
   ]
  },
  {
   "cell_type": "code",
   "execution_count": 233,
   "id": "e81337ea-1f37-4c5b-bc83-f08954c8edad",
   "metadata": {},
   "outputs": [],
   "source": [
    "train=np.loadtxt(path+'\\\\'+files[1],delimiter=',')"
   ]
  },
  {
   "cell_type": "code",
   "execution_count": 234,
   "id": "7e5b00a9-12af-4b6a-ab32-266c753e1039",
   "metadata": {},
   "outputs": [],
   "source": [
    "# Features in rows and records in rows\n",
    "train=train.T"
   ]
  },
  {
   "cell_type": "code",
   "execution_count": 235,
   "id": "2252d5ca-c07a-4d88-81d4-591edbfedb19",
   "metadata": {},
   "outputs": [],
   "source": [
    "# First 60 rows are features and last one row is label for that column\n",
    "x_train=train[:-1,:]\n",
    "y_train=train[-1,:]"
   ]
  },
  {
   "cell_type": "code",
   "execution_count": 236,
   "id": "b0b2176a-cb9e-4c6e-ab29-af49c273bcb1",
   "metadata": {},
   "outputs": [],
   "source": [
    "# Split data into classes\n",
    "class_0_indices=np.where(y_train==0)[0] # np.where returns a numpy array inside a tuple of length 1, so use index 0 to extract that array\n",
    "class_1_indices=np.where(y_train==1)[0]\n",
    "\n",
    "y_train_class_1=y_train[class_1_indices]\n",
    "y_train_class_0=y_train[class_0_indices]\n",
    "x_train_class_0=x_train[:,class_0_indices]\n",
    "x_train_class_1=x_train[:,class_1_indices]"
   ]
  },
  {
   "cell_type": "code",
   "execution_count": 237,
   "id": "a24056cd-1d5f-48fc-be57-031dfaf18530",
   "metadata": {},
   "outputs": [],
   "source": [
    "test=np.loadtxt(path+'\\\\'+files[0],delimiter=',')\n",
    "test=test.T\n",
    "x_test=test[:-1,:]\n",
    "y_test=test[-1,:]"
   ]
  },
  {
   "cell_type": "code",
   "execution_count": 238,
   "id": "31ae3464-7ff0-4a40-bc7f-e6ea6f6a4c7a",
   "metadata": {},
   "outputs": [],
   "source": [
    "# Divide test data Class wise\n",
    "class_0_test_indices=np.where(y_test==0)[0] # np.where returns a numpy array inside a tuple of length 1, so use index 0 to extract that array\n",
    "class_1_test_indices=np.where(y_test==1)[0]\n",
    "\n",
    "y_test_1=y_test[class_1_test_indices]\n",
    "y_test_0=y_test[class_0_test_indices]"
   ]
  },
  {
   "cell_type": "markdown",
   "id": "aad9b0fd-a49e-4521-a058-56feafa30d7d",
   "metadata": {},
   "source": [
    "# Problem 1"
   ]
  },
  {
   "cell_type": "code",
   "execution_count": 239,
   "id": "ad7bb10e-bca2-4a29-ba66-28a5f9dfd727",
   "metadata": {},
   "outputs": [],
   "source": [
    "# Calculate the mean of the classes\n",
    "mean_0=x_train_class_0.mean(axis=1)\n",
    "mean_1=x_train_class_1.mean(axis=1)\n",
    "# Convert the vectors into column vecotr\n",
    "mean_0=mean_0.reshape(-1,1)\n",
    "mean_1=mean_1.reshape(-1,1)"
   ]
  },
  {
   "cell_type": "code",
   "execution_count": 240,
   "id": "c6e91176-c823-43b7-b4e8-513051177906",
   "metadata": {},
   "outputs": [],
   "source": [
    "# Covariance of the classes\n",
    "C0=np.cov(x_train_class_0)\n",
    "C1=np.cov(x_train_class_1)"
   ]
  },
  {
   "cell_type": "code",
   "execution_count": 241,
   "id": "f57f815a-deef-40d9-a634-3da28fbf02f6",
   "metadata": {},
   "outputs": [],
   "source": [
    "C0_inv=np.linalg.inv(C0)\n",
    "C1_inv=np.linalg.inv(C1)\n",
    "det_C1=np.linalg.det(C1)\n",
    "det_C0=np.linalg.det(C0)"
   ]
  },
  {
   "cell_type": "code",
   "execution_count": 242,
   "id": "a44f1d66-5dda-4320-b533-c3c1c90af3f3",
   "metadata": {},
   "outputs": [],
   "source": [
    "# Construct parameters of the discriminant function with Gaussian assumption on instance distribution in classes.\n",
    "P_X_0=len(y_train_class_0)/len(y_train) # Fraction of points in class 0\n",
    "P_X_1=len(y_train_class_1)/len(y_train) # Fraction of points in class 1"
   ]
  },
  {
   "cell_type": "code",
   "execution_count": 243,
   "id": "2e2e116b-0ff9-45a2-847b-a9f39eebc4af",
   "metadata": {},
   "outputs": [],
   "source": [
    "# g(x) is discriminant function\n",
    "def g(x):\n",
    "    if x.shape==(60,):\n",
    "        x=x.reshape(-1,1)\n",
    "    value=(np.log(P_X_1/P_X_0)-(1/2)*np.log(det_C1/det_C0)-\n",
    "           (1/2)*((mean_1.T@C1_inv@mean_1)[0][0]-(mean_0.T@C0_inv@mean_0)[0][0])+\n",
    "           (x.T@(C1_inv@mean_1-C0_inv@mean_0))[0][0]-(1/2)*(x.T@(C1_inv-C0_inv)@x)[0][0]\n",
    "          )\n",
    "    return value\n",
    "           "
   ]
  },
  {
   "cell_type": "code",
   "execution_count": 244,
   "id": "7aa97b01-1219-4421-91d0-581e6fe21b01",
   "metadata": {},
   "outputs": [],
   "source": [
    "def predict(x):\n",
    "    if g(x)>=0:\n",
    "        return 1\n",
    "    else:\n",
    "        return 0"
   ]
  },
  {
   "cell_type": "code",
   "execution_count": 245,
   "id": "4d15fc96-f4d5-40cb-9a57-6ebb0872394a",
   "metadata": {},
   "outputs": [],
   "source": [
    "n=len(y_test) # Number of test samples\n",
    "predicted=np.zeros(n,dtype=int)\n",
    "for i in range(n):\n",
    "    predicted[i]=predict(x_test[:,i])"
   ]
  },
  {
   "cell_type": "code",
   "execution_count": 246,
   "id": "03923e50-6d98-48ce-8e9d-90df5c85ad77",
   "metadata": {},
   "outputs": [
    {
     "name": "stdout",
     "output_type": "stream",
     "text": [
      "Overall accuracy 0.9054656999442275\n"
     ]
    }
   ],
   "source": [
    "accuracy=sum(predicted==y_test)/len(y_test)\n",
    "print(\"Overall accuracy\",accuracy)"
   ]
  },
  {
   "cell_type": "code",
   "execution_count": 247,
   "id": "cfed09a4-a4ea-43e4-8e88-6c7372a3286a",
   "metadata": {},
   "outputs": [],
   "source": [
    "pred_1=predicted[class_1_test_indices]\n",
    "pred_0=predicted[class_0_test_indices]         "
   ]
  },
  {
   "cell_type": "code",
   "execution_count": 248,
   "id": "59150d1c-f524-4d31-97af-58321dca9acb",
   "metadata": {},
   "outputs": [
    {
     "name": "stdout",
     "output_type": "stream",
     "text": [
      "Class 1 accuracy 0.951007579959327\n"
     ]
    }
   ],
   "source": [
    "accuracy_1=sum(pred_1==y_test_1)/len(y_test_1)\n",
    "print(\"Class 1 accuracy\",accuracy_1)"
   ]
  },
  {
   "cell_type": "code",
   "execution_count": 249,
   "id": "7be2b26f-fced-45da-9355-1fb09d3e91e1",
   "metadata": {},
   "outputs": [
    {
     "name": "stdout",
     "output_type": "stream",
     "text": [
      "Class 0 accuracy 0.859412974387736\n"
     ]
    }
   ],
   "source": [
    "accuracy_0=sum(pred_0==y_test_0)/len(y_test_0)\n",
    "print(\"Class 0 accuracy\",accuracy_0)"
   ]
  },
  {
   "cell_type": "markdown",
   "id": "e5a6964b-7b2f-48fc-acb8-ad587c225f3d",
   "metadata": {},
   "source": [
    "# Problem 2"
   ]
  },
  {
   "cell_type": "code",
   "execution_count": 379,
   "id": "7f92adbf-25b6-417c-bbc9-2b701fd5c52f",
   "metadata": {},
   "outputs": [],
   "source": [
    "w0=np.random.rand(1)\n",
    "w=np.random.rand(x_train.shape[0],1)"
   ]
  },
  {
   "cell_type": "code",
   "execution_count": 380,
   "id": "507c16b5-e14b-4ab3-b3e1-aa3e8d3a0f7a",
   "metadata": {},
   "outputs": [],
   "source": [
    "def h(x,w,w0):\n",
    "    u=((w.T@x)+w0)[0]\n",
    "    return 1/(1+np.exp(-u))"
   ]
  },
  {
   "cell_type": "code",
   "execution_count": 381,
   "id": "c5d46796-6358-4a03-a0ee-af6b75fcbdc2",
   "metadata": {},
   "outputs": [],
   "source": [
    "def gradient(x,y,w,w0):\n",
    "    grad_w0=(y-h(x,w,w0)).sum()\n",
    "    grad=((y-h(x,w,w0))*x).sum(axis=1).reshape(60,-1)\n",
    "    return [grad,grad_w0]"
   ]
  },
  {
   "cell_type": "code",
   "execution_count": 382,
   "id": "61a148e0-27b6-419c-a9c1-a34c43d0d3a5",
   "metadata": {},
   "outputs": [],
   "source": [
    "def grad_ascent(x,y,w,w0,eta,iterations):\n",
    "    for i in range(iterations):\n",
    "        w=w+eta*gradient(x,y,w,w0)[0]\n",
    "        w0=w0+eta*gradient(x,y,w,w0)[1]\n",
    "    return w,w0"
   ]
  },
  {
   "cell_type": "code",
   "execution_count": 383,
   "id": "78dd5dc5-715d-4aab-ab00-73cd113d018b",
   "metadata": {},
   "outputs": [],
   "source": [
    "params=grad_ascent(x_train,y_train,w,w0,0.0001,5000)"
   ]
  },
  {
   "cell_type": "code",
   "execution_count": 384,
   "id": "759a0af4-5de6-43fc-aa65-2b1b62f616b8",
   "metadata": {
    "collapsed": true,
    "jupyter": {
     "outputs_hidden": true
    },
    "tags": []
   },
   "outputs": [
    {
     "data": {
      "text/plain": [
       "(array([[  7.97873245],\n",
       "        [  3.32616341],\n",
       "        [  3.19440992],\n",
       "        [  1.82555978],\n",
       "        [  3.22431409],\n",
       "        [ -1.8835814 ],\n",
       "        [ -3.66808322],\n",
       "        [  3.16979111],\n",
       "        [ -3.3214083 ],\n",
       "        [ -3.83015996],\n",
       "        [ -2.16752931],\n",
       "        [ -5.6571392 ],\n",
       "        [ -3.47467686],\n",
       "        [ -6.54735604],\n",
       "        [ -2.33748949],\n",
       "        [  4.01262413],\n",
       "        [ -5.16514015],\n",
       "        [  2.62042855],\n",
       "        [  3.4719912 ],\n",
       "        [ -4.24832139],\n",
       "        [ -1.16288679],\n",
       "        [ -2.60131186],\n",
       "        [  2.63987718],\n",
       "        [ -0.60229273],\n",
       "        [  0.46677041],\n",
       "        [ -1.95309816],\n",
       "        [ -1.13272166],\n",
       "        [ -1.03789578],\n",
       "        [  0.59277386],\n",
       "        [  5.16375132],\n",
       "        [  3.33045959],\n",
       "        [  2.02409963],\n",
       "        [  6.63514607],\n",
       "        [  0.89823592],\n",
       "        [  1.11677189],\n",
       "        [  0.93550478],\n",
       "        [ -0.36402276],\n",
       "        [  2.17130763],\n",
       "        [  1.85571914],\n",
       "        [ -1.16351733],\n",
       "        [ 59.50920618],\n",
       "        [ 20.65090366],\n",
       "        [ 12.35188326],\n",
       "        [  4.42137923],\n",
       "        [  1.44627792],\n",
       "        [-22.09251371],\n",
       "        [-23.16297163],\n",
       "        [ 12.72370247],\n",
       "        [-19.31589761],\n",
       "        [-10.41265945],\n",
       "        [-10.41712872],\n",
       "        [-21.96228375],\n",
       "        [ -7.77995281],\n",
       "        [-28.94488202],\n",
       "        [-12.83447817],\n",
       "        [  6.01496366],\n",
       "        [-19.51502525],\n",
       "        [  4.73388843],\n",
       "        [  7.56891327],\n",
       "        [-12.19196626]]),\n",
       " array([38.46129978]))"
      ]
     },
     "execution_count": 384,
     "metadata": {},
     "output_type": "execute_result"
    }
   ],
   "source": [
    "params"
   ]
  },
  {
   "cell_type": "code",
   "execution_count": 385,
   "id": "695bec0e-1c74-4e36-a945-20855ec69cf6",
   "metadata": {},
   "outputs": [
    {
     "data": {
      "text/plain": [
       "array([1., 0., 1., ..., 0., 0., 1.])"
      ]
     },
     "execution_count": 385,
     "metadata": {},
     "output_type": "execute_result"
    }
   ],
   "source": [
    "y_test"
   ]
  },
  {
   "cell_type": "code",
   "execution_count": 386,
   "id": "3a1561f1-b149-43a9-9b7c-56ce64c78f39",
   "metadata": {},
   "outputs": [],
   "source": [
    "predicted=np.zeros(len(y_test))\n",
    "for i in range(len(y_test)):\n",
    "    x=x_test[:,i].reshape(60,-1)\n",
    "    if h(x,params[0],params[1])>=0.5:\n",
    "        predicted[i]=1\n",
    "    else:\n",
    "        predicted[i]=0"
   ]
  },
  {
   "cell_type": "code",
   "execution_count": 387,
   "id": "91f69956-6857-40af-af7e-f76260891fec",
   "metadata": {},
   "outputs": [
    {
     "data": {
      "text/plain": [
       "0.9283788808328686"
      ]
     },
     "execution_count": 387,
     "metadata": {},
     "output_type": "execute_result"
    }
   ],
   "source": [
    "sum(predicted==y_test)/len(y_test)"
   ]
  },
  {
   "cell_type": "code",
   "execution_count": 388,
   "id": "cab1f332-e7f1-4b64-9b7b-f28c484e4a05",
   "metadata": {},
   "outputs": [],
   "source": [
    "pred_1=predicted[class_1_test_indices]\n",
    "pred_0=predicted[class_0_test_indices] "
   ]
  },
  {
   "cell_type": "code",
   "execution_count": 389,
   "id": "363eb639-ebc7-4404-92ea-1355875eb0e0",
   "metadata": {},
   "outputs": [
    {
     "name": "stdout",
     "output_type": "stream",
     "text": [
      "Class 1 accuracy 0.959974117212054\n"
     ]
    }
   ],
   "source": [
    "accuracy_1=sum(pred_1==y_test_1)/len(y_test_1)\n",
    "print(\"Class 1 accuracy\",accuracy_1)"
   ]
  },
  {
   "cell_type": "code",
   "execution_count": 390,
   "id": "bfe3fa39-7acf-4127-8ffc-af8849fae585",
   "metadata": {},
   "outputs": [
    {
     "name": "stdout",
     "output_type": "stream",
     "text": [
      "Class 0 accuracy 0.8964292391101141\n"
     ]
    }
   ],
   "source": [
    "accuracy_0=sum(pred_0==y_test_0)/len(y_test_0)\n",
    "print(\"Class 0 accuracy\",accuracy_0)"
   ]
  },
  {
   "cell_type": "code",
   "execution_count": null,
   "id": "3a8e4cf9-a5fd-481e-91c5-9bfbb0fde342",
   "metadata": {},
   "outputs": [],
   "source": []
  }
 ],
 "metadata": {
  "kernelspec": {
   "display_name": "Python 3 (ipykernel)",
   "language": "python",
   "name": "python3"
  },
  "language_info": {
   "codemirror_mode": {
    "name": "ipython",
    "version": 3
   },
   "file_extension": ".py",
   "mimetype": "text/x-python",
   "name": "python",
   "nbconvert_exporter": "python",
   "pygments_lexer": "ipython3",
   "version": "3.9.12"
  }
 },
 "nbformat": 4,
 "nbformat_minor": 5
}
